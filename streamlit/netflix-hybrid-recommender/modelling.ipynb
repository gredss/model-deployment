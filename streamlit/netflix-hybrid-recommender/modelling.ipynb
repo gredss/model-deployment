{
  "nbformat": 4,
  "nbformat_minor": 0,
  "metadata": {
    "colab": {
      "provenance": []
    },
    "kernelspec": {
      "name": "python3",
      "display_name": "Python 3"
    },
    "language_info": {
      "name": "python"
    }
  },
  "cells": [
    {
      "cell_type": "markdown",
      "source": [
        "# **Content-Based Filtering for Netflix Title Recommendations**\n",
        "\n",
        "\n",
        "> **Group 8**\n",
        "\n",
        "\n",
        "1.   2702305576 - Grace Esther D. S.\n",
        "2.   2702269620 - Adhi Swasono Aryaning Bawono\n",
        "3. 2702274015 - Axel Dimas Anugrah\n",
        "---"
      ],
      "metadata": {
        "id": "E2tSjJ2iTfIY"
      }
    },
    {
      "cell_type": "markdown",
      "source": [
        "This section imports all required libraries for preprocessing, vectorization, similarity computation, and model building.\n",
        "It also suppresses warnings and ensures all required NLTK resources are downloaded."
      ],
      "metadata": {
        "id": "dtby5nsSFeTN"
      }
    },
    {
      "cell_type": "code",
      "execution_count": 28,
      "metadata": {
        "id": "pf_YA9cJhQoz"
      },
      "outputs": [],
      "source": [
        "import pandas as pd\n",
        "import numpy as np\n",
        "from sklearn.feature_extraction.text import TfidfVectorizer\n",
        "from sklearn.metrics.pairwise import cosine_similarity\n",
        "from sklearn.decomposition import TruncatedSVD\n",
        "from sklearn.preprocessing import normalize\n",
        "from scipy.sparse import hstack\n",
        "from collections import defaultdict\n",
        "import pickle\n",
        "import nltk\n",
        "import re\n",
        "from nltk.corpus import stopwords, wordnet\n",
        "from nltk.stem import WordNetLemmatizer\n",
        "from nltk.tokenize import word_tokenize\n",
        "from nltk.tag import pos_tag\n",
        "import warnings\n",
        "warnings.filterwarnings('ignore')"
      ]
    },
    {
      "cell_type": "code",
      "source": [
        "nltk.download('stopwords')\n",
        "nltk.download('punkt')\n",
        "nltk.download('wordnet')\n",
        "nltk.download('averaged_perceptron_tagger')\n",
        "nltk.download('averaged_perceptron_tagger_eng')\n",
        "nltk.download('punkt_tab')"
      ],
      "metadata": {
        "colab": {
          "base_uri": "https://localhost:8080/"
        },
        "id": "d3--ui3phbcO",
        "outputId": "d2a818d9-8f12-443a-af3a-11b2bdc84e39"
      },
      "execution_count": 29,
      "outputs": [
        {
          "output_type": "stream",
          "name": "stderr",
          "text": [
            "[nltk_data] Downloading package stopwords to /root/nltk_data...\n",
            "[nltk_data]   Package stopwords is already up-to-date!\n",
            "[nltk_data] Downloading package punkt to /root/nltk_data...\n",
            "[nltk_data]   Package punkt is already up-to-date!\n",
            "[nltk_data] Downloading package wordnet to /root/nltk_data...\n",
            "[nltk_data]   Package wordnet is already up-to-date!\n",
            "[nltk_data] Downloading package averaged_perceptron_tagger to\n",
            "[nltk_data]     /root/nltk_data...\n",
            "[nltk_data]   Package averaged_perceptron_tagger is already up-to-\n",
            "[nltk_data]       date!\n",
            "[nltk_data] Downloading package averaged_perceptron_tagger_eng to\n",
            "[nltk_data]     /root/nltk_data...\n",
            "[nltk_data]   Package averaged_perceptron_tagger_eng is already up-to-\n",
            "[nltk_data]       date!\n",
            "[nltk_data] Downloading package punkt_tab to /root/nltk_data...\n",
            "[nltk_data]   Package punkt_tab is already up-to-date!\n"
          ]
        },
        {
          "output_type": "execute_result",
          "data": {
            "text/plain": [
              "True"
            ]
          },
          "metadata": {},
          "execution_count": 29
        }
      ]
    },
    {
      "cell_type": "markdown",
      "source": [
        "We define a function to normalize, tokenize, lemmatize, and remove stopwords from text columns such as description, genres, and cast.\n",
        "This prepares the textual data for vectorization."
      ],
      "metadata": {
        "id": "U4a9PkxzFlI_"
      }
    },
    {
      "cell_type": "code",
      "source": [
        "filepath = '/content/netflix_titles.csv'"
      ],
      "metadata": {
        "id": "4ZAXuEmphp4D"
      },
      "execution_count": 30,
      "outputs": []
    },
    {
      "cell_type": "code",
      "source": [
        "# Text Preprocessing\n",
        "stop_words = set(stopwords.words('english'))\n",
        "lemmatizer = WordNetLemmatizer()"
      ],
      "metadata": {
        "id": "Pva2VWWShbZP"
      },
      "execution_count": 31,
      "outputs": []
    },
    {
      "cell_type": "code",
      "source": [
        "def get_wordnet_pos(tag):\n",
        "    \"\"\"Map POS tag to WordNet POS tag for lemmatization.\"\"\"\n",
        "    tag = tag[0].upper() if tag else ''\n",
        "    tag_dict = {\"J\": wordnet.ADJ, \"V\": wordnet.VERB, \"N\": wordnet.NOUN, \"R\": wordnet.ADV}\n",
        "    return tag_dict.get(tag, wordnet.NOUN)"
      ],
      "metadata": {
        "id": "8pxocVkOl31T"
      },
      "execution_count": 32,
      "outputs": []
    },
    {
      "cell_type": "code",
      "source": [
        "def clean_text(text):\n",
        "    \"\"\"Normalize, tokenize, lemmatize, and remove stopwords.\"\"\"\n",
        "    text = str(text).lower()\n",
        "    text = re.sub(r'[^a-z0-9\\s]', '', text)  # Keep alphanumeric + whitespace\n",
        "    tokens = word_tokenize(text)\n",
        "    tagged = pos_tag(tokens)\n",
        "    lemmatized = [\n",
        "        lemmatizer.lemmatize(word, get_wordnet_pos(pos))\n",
        "        for word, pos in tagged\n",
        "        if word not in stop_words and len(word) > 2\n",
        "    ]\n",
        "    return ' '.join(lemmatized)"
      ],
      "metadata": {
        "id": "c_gdaqacl_mn"
      },
      "execution_count": 33,
      "outputs": []
    },
    {
      "cell_type": "markdown",
      "source": [
        "We load the `netflix_titles.csv` dataset, rename the `listed_in` column to `genres`, and fill missing values in key columns.\n",
        "Then, we clean each text column using the previously defined cleaning pipeline."
      ],
      "metadata": {
        "id": "BWE4w-xxFrpD"
      }
    },
    {
      "cell_type": "code",
      "source": [
        "# Data Loading & Cleaning\n",
        "def load_and_preprocess_data(filepath):\n",
        "    \"\"\"Load data and handle missing values.\"\"\"\n",
        "    df = pd.read_csv(filepath)\n",
        "    df.rename(columns={'listed_in': 'genres'}, inplace=True)\n",
        "\n",
        "    # Fill missing values\n",
        "    text_cols = ['description', 'director', 'cast', 'country', 'genres']\n",
        "    df[text_cols] = df[text_cols].fillna('unknown')\n",
        "    df['rating'] = df['rating'].fillna('unrated')\n",
        "\n",
        "    # Clean text fields\n",
        "    for col in text_cols:\n",
        "        df[col] = df[col].apply(clean_text)\n",
        "\n",
        "    return df"
      ],
      "metadata": {
        "id": "bKZR5LXsmF6N"
      },
      "execution_count": 34,
      "outputs": []
    },
    {
      "cell_type": "code",
      "source": [
        "df = load_and_preprocess_data('netflix_titles.csv')"
      ],
      "metadata": {
        "id": "W9OpvPBkmNb_"
      },
      "execution_count": 35,
      "outputs": []
    },
    {
      "cell_type": "markdown",
      "source": [
        "We convert cleaned text into numerical vectors using TF-IDF on the following fields:\n",
        "- Description (highest weight)\n",
        "- Genres\n",
        "- Director\n",
        "- Cast\n",
        "- Country\n",
        "\n",
        "Each feature is given a specific weight based on its assumed importance in user decision-making."
      ],
      "metadata": {
        "id": "jTIJ1mKdF71y"
      }
    },
    {
      "cell_type": "code",
      "source": [
        "desc_vectorizer = TfidfVectorizer(max_features=3000, ngram_range=(1, 2))\n",
        "gen_vectorizer  = TfidfVectorizer(max_features=500)\n",
        "dir_vectorizer  = TfidfVectorizer(max_features=300)\n",
        "cast_vectorizer = TfidfVectorizer(max_features=500)\n",
        "ctry_vectorizer = TfidfVectorizer(max_features=200)"
      ],
      "metadata": {
        "id": "XRECUHjEmUOb"
      },
      "execution_count": 36,
      "outputs": []
    },
    {
      "cell_type": "code",
      "source": [
        "desc_vec = desc_vectorizer.fit_transform(df['description'])\n",
        "gen_vec  = gen_vectorizer.fit_transform(df['genres'])\n",
        "dir_vec  = dir_vectorizer.fit_transform(df['director'])\n",
        "cast_vec = cast_vectorizer.fit_transform(df['cast'])\n",
        "ctry_vec = ctry_vectorizer.fit_transform(df['country'])"
      ],
      "metadata": {
        "id": "ko6kcirembyQ"
      },
      "execution_count": 37,
      "outputs": []
    },
    {
      "cell_type": "code",
      "source": [
        "# Weighted feature combination\n",
        "combined_features = hstack([\n",
        "    1.0 * desc_vec,  # Highest weight for descriptions\n",
        "    0.8 * gen_vec,   # Genres are very important\n",
        "    0.5 * dir_vec,   # Director matters\n",
        "    0.4 * cast_vec,  # Cast matters less\n",
        "    0.2 * ctry_vec   # Country matters least\n",
        "])"
      ],
      "metadata": {
        "id": "D6HOheodmbvG"
      },
      "execution_count": 38,
      "outputs": []
    },
    {
      "cell_type": "markdown",
      "source": [
        "To reduce computation cost and handle the sparsity of high-dimensional vectors, we use **TruncatedSVD** to compress the feature matrix.\n",
        "The result is then normalized for use in cosine similarity or nearest neighbor search."
      ],
      "metadata": {
        "id": "iR7AqQtwGDwh"
      }
    },
    {
      "cell_type": "code",
      "source": [
        "# Dimensionality reduction\n",
        "svd = TruncatedSVD(n_components=200, random_state=42)\n",
        "reduced_features = svd.fit_transform(combined_features)\n",
        "norm_features = normalize(reduced_features)"
      ],
      "metadata": {
        "id": "dgmeJg2xmbr3"
      },
      "execution_count": 39,
      "outputs": []
    },
    {
      "cell_type": "markdown",
      "source": [
        "We use `NearestNeighbors` from scikit-learn to perform efficient similarity search using cosine distance.\n",
        "If unavailable, we fall back to pairwise cosine similarity computation."
      ],
      "metadata": {
        "id": "Rq7t8x10GNPk"
      }
    },
    {
      "cell_type": "code",
      "source": [
        "# Approximate Nearest Neighbors (for scalability)\n",
        "try:\n",
        "    from sklearn.neighbors import NearestNeighbors\n",
        "    nn = NearestNeighbors(n_neighbors=20, metric='cosine', algorithm='brute')\n",
        "    nn.fit(norm_features)\n",
        "    USE_ANN = True\n",
        "except ImportError:\n",
        "    USE_ANN = False\n",
        "    cosine_sim = cosine_similarity(norm_features)"
      ],
      "metadata": {
        "id": "fzroPzDEmyCy"
      },
      "execution_count": 40,
      "outputs": []
    },
    {
      "cell_type": "code",
      "source": [
        "# Index Mapping\n",
        "title_to_indices = defaultdict(list)\n",
        "for idx, title in enumerate(df['title']):\n",
        "    title_to_indices[title.lower()].append(idx)"
      ],
      "metadata": {
        "id": "JkjQ21wxm3R_"
      },
      "execution_count": 41,
      "outputs": []
    },
    {
      "cell_type": "markdown",
      "source": [
        "The `recommend()` function:\n",
        "1. Accepts a movie title and returns the top-N most similar titles.\n",
        "2. If the title is not found (cold-start), it recommends items similar to popular recent titles based on genre similarity."
      ],
      "metadata": {
        "id": "GnF8arB-GR_x"
      }
    },
    {
      "cell_type": "code",
      "source": [
        "# Recommendation Engine\n",
        "def recommend(title, top_n=5, fallback_to_popular=True):\n",
        "    \"\"\"Get recommendations with robust cold-start fallback.\"\"\"\n",
        "    title = title.lower()\n",
        "\n",
        "    # Case 1: Title exists in dataset\n",
        "    if title in title_to_indices:\n",
        "        if USE_ANN:\n",
        "            distances, indices = nn.kneighbors(\n",
        "                norm_features[title_to_indices[title][0]].reshape(1, -1),\n",
        "                n_neighbors=top_n+1\n",
        "            )\n",
        "            indices = indices[0][1:]  # Skip self-match\n",
        "            similarity_scores = 1 - distances[0][1:]\n",
        "        else:\n",
        "            idx = title_to_indices[title][0]\n",
        "            sim_scores = list(enumerate(cosine_sim[idx]))\n",
        "            sim_scores = sorted(sim_scores, key=lambda x: x[1], reverse=True)[1:top_n+1]\n",
        "            indices = [i[0] for i in sim_scores]\n",
        "            similarity_scores = [round(i[1], 6) for i in sim_scores]\n",
        "\n",
        "    # Case 2: Cold-start (title not found)\n",
        "    else:\n",
        "        if not fallback_to_popular:\n",
        "            return pd.DataFrame({'Error': [f\"Title '{title}' not found.\"]})\n",
        "\n",
        "        print(f\"Title '{title}' not found. Recommending popular items by genre...\")\n",
        "\n",
        "        # Fallback: Use genre similarity to popular items\n",
        "        popular = df.sort_values('release_year', ascending=False).head(100)\n",
        "        if len(popular) == 0:\n",
        "            return pd.DataFrame({'Error': [\"No popular items found for fallback.\"]})\n",
        "\n",
        "        # Re-vectorize popular items' genres to ensure feature alignment\n",
        "        genre_vectorizer = TfidfVectorizer(max_features=500).fit(df['genres'])\n",
        "        gen_vec_popular = genre_vectorizer.transform(popular['genres'])\n",
        "\n",
        "        # Get random popular item's genre vector as query\n",
        "        query_idx = np.random.choice(len(popular))\n",
        "        query_genre_vec = genre_vectorizer.transform([popular.iloc[query_idx]['genres']])\n",
        "\n",
        "        # Compute similarities\n",
        "        sim_scores = cosine_similarity(query_genre_vec, gen_vec_popular)[0]\n",
        "        top_indices = np.argsort(sim_scores)[-top_n:][::-1]\n",
        "        similarity_scores = sim_scores[top_indices]\n",
        "        indices = popular.iloc[top_indices].index.tolist()\n",
        "\n",
        "    # Prepare results\n",
        "    recommendations = df.iloc[indices].copy()\n",
        "    recommendations['similarity'] = similarity_scores\n",
        "\n",
        "    return recommendations[[\n",
        "        'title', 'director', 'cast', 'genres', 'country',\n",
        "        'release_year', 'rating', 'description', 'similarity'\n",
        "    ]]"
      ],
      "metadata": {
        "id": "MRBdgWG6m4mT"
      },
      "execution_count": 42,
      "outputs": []
    },
    {
      "cell_type": "markdown",
      "source": [
        "We test the system on:\n",
        "- A known movie (`Stranger Things`)\n",
        "- A non-existent title to trigger the fallback mechanism"
      ],
      "metadata": {
        "id": "d3_OTMQzGbYW"
      }
    },
    {
      "cell_type": "code",
      "source": [
        "recommend(\"Stranger Things\")"
      ],
      "metadata": {
        "colab": {
          "base_uri": "https://localhost:8080/",
          "height": 206
        },
        "id": "auV25yjGjK25",
        "outputId": "d7182f41-6ee8-474f-8232-06e03e7b8509"
      },
      "execution_count": 43,
      "outputs": [
        {
          "output_type": "execute_result",
          "data": {
            "text/plain": [
              "                               title director  \\\n",
              "3187                     Nightflyers  unknown   \n",
              "6953                           Helix  unknown   \n",
              "1473  Chilling Adventures of Sabrina  unknown   \n",
              "5287             The Vampire Diaries  unknown   \n",
              "2303                     Warrior Nun  unknown   \n",
              "\n",
              "                                                   cast  \\\n",
              "3187  eoin macken david ajala jodie turnersmith angu...   \n",
              "6953  billy campbell hiroyuki sanada kyra zagorsky m...   \n",
              "1473  kiernan shipka ross lynch miranda otto lucy da...   \n",
              "5287  nina dobrev paul wesley ian somerhalder steven...   \n",
              "2303  alba baptista toya turner lorena andrea kristi...   \n",
              "\n",
              "                                      genres              country  \\\n",
              "3187            horror mystery scifi fantasy         united state   \n",
              "6953            horror mystery scifi fantasy  united state canada   \n",
              "1473            horror mystery scifi fantasy         united state   \n",
              "5287             drama mystery scifi fantasy         united state   \n",
              "2303  action adventure mystery scifi fantasy         united state   \n",
              "\n",
              "      release_year rating                                        description  \\\n",
              "3187          2018  TV-MA  humankind future stake group scientist powerfu...   \n",
              "6953          2015  TV-MA  investigate possible outbreak arctic research ...   \n",
              "1473          2020  TV-14  magic mischief collide halfhuman halfwitch sab...   \n",
              "5287          2016  TV-14  trap adolescent body feud vampire brother stef...   \n",
              "2303          2020  TV-MA  wake morgue orphan teen discovers possess supe...   \n",
              "\n",
              "      similarity  \n",
              "3187    0.837727  \n",
              "6953    0.791089  \n",
              "1473    0.773480  \n",
              "5287    0.737511  \n",
              "2303    0.721433  "
            ],
            "text/html": [
              "\n",
              "  <div id=\"df-893bfe0c-e7b0-4fbc-b6ca-ada5d61c3b49\" class=\"colab-df-container\">\n",
              "    <div>\n",
              "<style scoped>\n",
              "    .dataframe tbody tr th:only-of-type {\n",
              "        vertical-align: middle;\n",
              "    }\n",
              "\n",
              "    .dataframe tbody tr th {\n",
              "        vertical-align: top;\n",
              "    }\n",
              "\n",
              "    .dataframe thead th {\n",
              "        text-align: right;\n",
              "    }\n",
              "</style>\n",
              "<table border=\"1\" class=\"dataframe\">\n",
              "  <thead>\n",
              "    <tr style=\"text-align: right;\">\n",
              "      <th></th>\n",
              "      <th>title</th>\n",
              "      <th>director</th>\n",
              "      <th>cast</th>\n",
              "      <th>genres</th>\n",
              "      <th>country</th>\n",
              "      <th>release_year</th>\n",
              "      <th>rating</th>\n",
              "      <th>description</th>\n",
              "      <th>similarity</th>\n",
              "    </tr>\n",
              "  </thead>\n",
              "  <tbody>\n",
              "    <tr>\n",
              "      <th>3187</th>\n",
              "      <td>Nightflyers</td>\n",
              "      <td>unknown</td>\n",
              "      <td>eoin macken david ajala jodie turnersmith angu...</td>\n",
              "      <td>horror mystery scifi fantasy</td>\n",
              "      <td>united state</td>\n",
              "      <td>2018</td>\n",
              "      <td>TV-MA</td>\n",
              "      <td>humankind future stake group scientist powerfu...</td>\n",
              "      <td>0.837727</td>\n",
              "    </tr>\n",
              "    <tr>\n",
              "      <th>6953</th>\n",
              "      <td>Helix</td>\n",
              "      <td>unknown</td>\n",
              "      <td>billy campbell hiroyuki sanada kyra zagorsky m...</td>\n",
              "      <td>horror mystery scifi fantasy</td>\n",
              "      <td>united state canada</td>\n",
              "      <td>2015</td>\n",
              "      <td>TV-MA</td>\n",
              "      <td>investigate possible outbreak arctic research ...</td>\n",
              "      <td>0.791089</td>\n",
              "    </tr>\n",
              "    <tr>\n",
              "      <th>1473</th>\n",
              "      <td>Chilling Adventures of Sabrina</td>\n",
              "      <td>unknown</td>\n",
              "      <td>kiernan shipka ross lynch miranda otto lucy da...</td>\n",
              "      <td>horror mystery scifi fantasy</td>\n",
              "      <td>united state</td>\n",
              "      <td>2020</td>\n",
              "      <td>TV-14</td>\n",
              "      <td>magic mischief collide halfhuman halfwitch sab...</td>\n",
              "      <td>0.773480</td>\n",
              "    </tr>\n",
              "    <tr>\n",
              "      <th>5287</th>\n",
              "      <td>The Vampire Diaries</td>\n",
              "      <td>unknown</td>\n",
              "      <td>nina dobrev paul wesley ian somerhalder steven...</td>\n",
              "      <td>drama mystery scifi fantasy</td>\n",
              "      <td>united state</td>\n",
              "      <td>2016</td>\n",
              "      <td>TV-14</td>\n",
              "      <td>trap adolescent body feud vampire brother stef...</td>\n",
              "      <td>0.737511</td>\n",
              "    </tr>\n",
              "    <tr>\n",
              "      <th>2303</th>\n",
              "      <td>Warrior Nun</td>\n",
              "      <td>unknown</td>\n",
              "      <td>alba baptista toya turner lorena andrea kristi...</td>\n",
              "      <td>action adventure mystery scifi fantasy</td>\n",
              "      <td>united state</td>\n",
              "      <td>2020</td>\n",
              "      <td>TV-MA</td>\n",
              "      <td>wake morgue orphan teen discovers possess supe...</td>\n",
              "      <td>0.721433</td>\n",
              "    </tr>\n",
              "  </tbody>\n",
              "</table>\n",
              "</div>\n",
              "    <div class=\"colab-df-buttons\">\n",
              "\n",
              "  <div class=\"colab-df-container\">\n",
              "    <button class=\"colab-df-convert\" onclick=\"convertToInteractive('df-893bfe0c-e7b0-4fbc-b6ca-ada5d61c3b49')\"\n",
              "            title=\"Convert this dataframe to an interactive table.\"\n",
              "            style=\"display:none;\">\n",
              "\n",
              "  <svg xmlns=\"http://www.w3.org/2000/svg\" height=\"24px\" viewBox=\"0 -960 960 960\">\n",
              "    <path d=\"M120-120v-720h720v720H120Zm60-500h600v-160H180v160Zm220 220h160v-160H400v160Zm0 220h160v-160H400v160ZM180-400h160v-160H180v160Zm440 0h160v-160H620v160ZM180-180h160v-160H180v160Zm440 0h160v-160H620v160Z\"/>\n",
              "  </svg>\n",
              "    </button>\n",
              "\n",
              "  <style>\n",
              "    .colab-df-container {\n",
              "      display:flex;\n",
              "      gap: 12px;\n",
              "    }\n",
              "\n",
              "    .colab-df-convert {\n",
              "      background-color: #E8F0FE;\n",
              "      border: none;\n",
              "      border-radius: 50%;\n",
              "      cursor: pointer;\n",
              "      display: none;\n",
              "      fill: #1967D2;\n",
              "      height: 32px;\n",
              "      padding: 0 0 0 0;\n",
              "      width: 32px;\n",
              "    }\n",
              "\n",
              "    .colab-df-convert:hover {\n",
              "      background-color: #E2EBFA;\n",
              "      box-shadow: 0px 1px 2px rgba(60, 64, 67, 0.3), 0px 1px 3px 1px rgba(60, 64, 67, 0.15);\n",
              "      fill: #174EA6;\n",
              "    }\n",
              "\n",
              "    .colab-df-buttons div {\n",
              "      margin-bottom: 4px;\n",
              "    }\n",
              "\n",
              "    [theme=dark] .colab-df-convert {\n",
              "      background-color: #3B4455;\n",
              "      fill: #D2E3FC;\n",
              "    }\n",
              "\n",
              "    [theme=dark] .colab-df-convert:hover {\n",
              "      background-color: #434B5C;\n",
              "      box-shadow: 0px 1px 3px 1px rgba(0, 0, 0, 0.15);\n",
              "      filter: drop-shadow(0px 1px 2px rgba(0, 0, 0, 0.3));\n",
              "      fill: #FFFFFF;\n",
              "    }\n",
              "  </style>\n",
              "\n",
              "    <script>\n",
              "      const buttonEl =\n",
              "        document.querySelector('#df-893bfe0c-e7b0-4fbc-b6ca-ada5d61c3b49 button.colab-df-convert');\n",
              "      buttonEl.style.display =\n",
              "        google.colab.kernel.accessAllowed ? 'block' : 'none';\n",
              "\n",
              "      async function convertToInteractive(key) {\n",
              "        const element = document.querySelector('#df-893bfe0c-e7b0-4fbc-b6ca-ada5d61c3b49');\n",
              "        const dataTable =\n",
              "          await google.colab.kernel.invokeFunction('convertToInteractive',\n",
              "                                                    [key], {});\n",
              "        if (!dataTable) return;\n",
              "\n",
              "        const docLinkHtml = 'Like what you see? Visit the ' +\n",
              "          '<a target=\"_blank\" href=https://colab.research.google.com/notebooks/data_table.ipynb>data table notebook</a>'\n",
              "          + ' to learn more about interactive tables.';\n",
              "        element.innerHTML = '';\n",
              "        dataTable['output_type'] = 'display_data';\n",
              "        await google.colab.output.renderOutput(dataTable, element);\n",
              "        const docLink = document.createElement('div');\n",
              "        docLink.innerHTML = docLinkHtml;\n",
              "        element.appendChild(docLink);\n",
              "      }\n",
              "    </script>\n",
              "  </div>\n",
              "\n",
              "\n",
              "    <div id=\"df-7d188141-0811-4105-a43f-6d83e2a2ff06\">\n",
              "      <button class=\"colab-df-quickchart\" onclick=\"quickchart('df-7d188141-0811-4105-a43f-6d83e2a2ff06')\"\n",
              "                title=\"Suggest charts\"\n",
              "                style=\"display:none;\">\n",
              "\n",
              "<svg xmlns=\"http://www.w3.org/2000/svg\" height=\"24px\"viewBox=\"0 0 24 24\"\n",
              "     width=\"24px\">\n",
              "    <g>\n",
              "        <path d=\"M19 3H5c-1.1 0-2 .9-2 2v14c0 1.1.9 2 2 2h14c1.1 0 2-.9 2-2V5c0-1.1-.9-2-2-2zM9 17H7v-7h2v7zm4 0h-2V7h2v10zm4 0h-2v-4h2v4z\"/>\n",
              "    </g>\n",
              "</svg>\n",
              "      </button>\n",
              "\n",
              "<style>\n",
              "  .colab-df-quickchart {\n",
              "      --bg-color: #E8F0FE;\n",
              "      --fill-color: #1967D2;\n",
              "      --hover-bg-color: #E2EBFA;\n",
              "      --hover-fill-color: #174EA6;\n",
              "      --disabled-fill-color: #AAA;\n",
              "      --disabled-bg-color: #DDD;\n",
              "  }\n",
              "\n",
              "  [theme=dark] .colab-df-quickchart {\n",
              "      --bg-color: #3B4455;\n",
              "      --fill-color: #D2E3FC;\n",
              "      --hover-bg-color: #434B5C;\n",
              "      --hover-fill-color: #FFFFFF;\n",
              "      --disabled-bg-color: #3B4455;\n",
              "      --disabled-fill-color: #666;\n",
              "  }\n",
              "\n",
              "  .colab-df-quickchart {\n",
              "    background-color: var(--bg-color);\n",
              "    border: none;\n",
              "    border-radius: 50%;\n",
              "    cursor: pointer;\n",
              "    display: none;\n",
              "    fill: var(--fill-color);\n",
              "    height: 32px;\n",
              "    padding: 0;\n",
              "    width: 32px;\n",
              "  }\n",
              "\n",
              "  .colab-df-quickchart:hover {\n",
              "    background-color: var(--hover-bg-color);\n",
              "    box-shadow: 0 1px 2px rgba(60, 64, 67, 0.3), 0 1px 3px 1px rgba(60, 64, 67, 0.15);\n",
              "    fill: var(--button-hover-fill-color);\n",
              "  }\n",
              "\n",
              "  .colab-df-quickchart-complete:disabled,\n",
              "  .colab-df-quickchart-complete:disabled:hover {\n",
              "    background-color: var(--disabled-bg-color);\n",
              "    fill: var(--disabled-fill-color);\n",
              "    box-shadow: none;\n",
              "  }\n",
              "\n",
              "  .colab-df-spinner {\n",
              "    border: 2px solid var(--fill-color);\n",
              "    border-color: transparent;\n",
              "    border-bottom-color: var(--fill-color);\n",
              "    animation:\n",
              "      spin 1s steps(1) infinite;\n",
              "  }\n",
              "\n",
              "  @keyframes spin {\n",
              "    0% {\n",
              "      border-color: transparent;\n",
              "      border-bottom-color: var(--fill-color);\n",
              "      border-left-color: var(--fill-color);\n",
              "    }\n",
              "    20% {\n",
              "      border-color: transparent;\n",
              "      border-left-color: var(--fill-color);\n",
              "      border-top-color: var(--fill-color);\n",
              "    }\n",
              "    30% {\n",
              "      border-color: transparent;\n",
              "      border-left-color: var(--fill-color);\n",
              "      border-top-color: var(--fill-color);\n",
              "      border-right-color: var(--fill-color);\n",
              "    }\n",
              "    40% {\n",
              "      border-color: transparent;\n",
              "      border-right-color: var(--fill-color);\n",
              "      border-top-color: var(--fill-color);\n",
              "    }\n",
              "    60% {\n",
              "      border-color: transparent;\n",
              "      border-right-color: var(--fill-color);\n",
              "    }\n",
              "    80% {\n",
              "      border-color: transparent;\n",
              "      border-right-color: var(--fill-color);\n",
              "      border-bottom-color: var(--fill-color);\n",
              "    }\n",
              "    90% {\n",
              "      border-color: transparent;\n",
              "      border-bottom-color: var(--fill-color);\n",
              "    }\n",
              "  }\n",
              "</style>\n",
              "\n",
              "      <script>\n",
              "        async function quickchart(key) {\n",
              "          const quickchartButtonEl =\n",
              "            document.querySelector('#' + key + ' button');\n",
              "          quickchartButtonEl.disabled = true;  // To prevent multiple clicks.\n",
              "          quickchartButtonEl.classList.add('colab-df-spinner');\n",
              "          try {\n",
              "            const charts = await google.colab.kernel.invokeFunction(\n",
              "                'suggestCharts', [key], {});\n",
              "          } catch (error) {\n",
              "            console.error('Error during call to suggestCharts:', error);\n",
              "          }\n",
              "          quickchartButtonEl.classList.remove('colab-df-spinner');\n",
              "          quickchartButtonEl.classList.add('colab-df-quickchart-complete');\n",
              "        }\n",
              "        (() => {\n",
              "          let quickchartButtonEl =\n",
              "            document.querySelector('#df-7d188141-0811-4105-a43f-6d83e2a2ff06 button');\n",
              "          quickchartButtonEl.style.display =\n",
              "            google.colab.kernel.accessAllowed ? 'block' : 'none';\n",
              "        })();\n",
              "      </script>\n",
              "    </div>\n",
              "\n",
              "    </div>\n",
              "  </div>\n"
            ],
            "application/vnd.google.colaboratory.intrinsic+json": {
              "type": "dataframe",
              "summary": "{\n  \"name\": \"recommend(\\\"Stranger Things\\\")\",\n  \"rows\": 5,\n  \"fields\": [\n    {\n      \"column\": \"title\",\n      \"properties\": {\n        \"dtype\": \"string\",\n        \"num_unique_values\": 5,\n        \"samples\": [\n          \"Helix\",\n          \"Warrior Nun\",\n          \"Chilling Adventures of Sabrina\"\n        ],\n        \"semantic_type\": \"\",\n        \"description\": \"\"\n      }\n    },\n    {\n      \"column\": \"director\",\n      \"properties\": {\n        \"dtype\": \"category\",\n        \"num_unique_values\": 1,\n        \"samples\": [\n          \"unknown\"\n        ],\n        \"semantic_type\": \"\",\n        \"description\": \"\"\n      }\n    },\n    {\n      \"column\": \"cast\",\n      \"properties\": {\n        \"dtype\": \"string\",\n        \"num_unique_values\": 5,\n        \"samples\": [\n          \"billy campbell hiroyuki sanada kyra zagorsky mark ghanim meegwun fairbrother jordan hayes neil napier matt long severn thompson jeri ryan catherine lemieux\"\n        ],\n        \"semantic_type\": \"\",\n        \"description\": \"\"\n      }\n    },\n    {\n      \"column\": \"genres\",\n      \"properties\": {\n        \"dtype\": \"string\",\n        \"num_unique_values\": 3,\n        \"samples\": [\n          \"horror mystery scifi fantasy\"\n        ],\n        \"semantic_type\": \"\",\n        \"description\": \"\"\n      }\n    },\n    {\n      \"column\": \"country\",\n      \"properties\": {\n        \"dtype\": \"category\",\n        \"num_unique_values\": 2,\n        \"samples\": [\n          \"united state canada\"\n        ],\n        \"semantic_type\": \"\",\n        \"description\": \"\"\n      }\n    },\n    {\n      \"column\": \"release_year\",\n      \"properties\": {\n        \"dtype\": \"number\",\n        \"std\": 2,\n        \"min\": 2015,\n        \"max\": 2020,\n        \"num_unique_values\": 4,\n        \"samples\": [\n          2015\n        ],\n        \"semantic_type\": \"\",\n        \"description\": \"\"\n      }\n    },\n    {\n      \"column\": \"rating\",\n      \"properties\": {\n        \"dtype\": \"category\",\n        \"num_unique_values\": 2,\n        \"samples\": [\n          \"TV-14\"\n        ],\n        \"semantic_type\": \"\",\n        \"description\": \"\"\n      }\n    },\n    {\n      \"column\": \"description\",\n      \"properties\": {\n        \"dtype\": \"string\",\n        \"num_unique_values\": 5,\n        \"samples\": [\n          \"investigate possible outbreak arctic research facility scientist discover new virus could wipe every human planet\"\n        ],\n        \"semantic_type\": \"\",\n        \"description\": \"\"\n      }\n    },\n    {\n      \"column\": \"similarity\",\n      \"properties\": {\n        \"dtype\": \"number\",\n        \"std\": 0.04591547916493583,\n        \"min\": 0.7214325705463214,\n        \"max\": 0.8377274158264123,\n        \"num_unique_values\": 5,\n        \"samples\": [\n          0.7910885349058521\n        ],\n        \"semantic_type\": \"\",\n        \"description\": \"\"\n      }\n    }\n  ]\n}"
            }
          },
          "metadata": {},
          "execution_count": 43
        }
      ]
    },
    {
      "cell_type": "code",
      "source": [
        "recommend(\"Non-Existent Movie\")"
      ],
      "metadata": {
        "colab": {
          "base_uri": "https://localhost:8080/",
          "height": 310
        },
        "id": "ydDDLjwXhbW_",
        "outputId": "45b646e2-baa5-4d90-fe0b-925995c58d61"
      },
      "execution_count": 44,
      "outputs": [
        {
          "output_type": "stream",
          "name": "stdout",
          "text": [
            "Title 'non-existent movie' not found. Recommending popular items by genre...\n"
          ]
        },
        {
          "output_type": "execute_result",
          "data": {
            "text/plain": [
              "                                  title                           director  \\\n",
              "110   Money Heist: From Tokyo to Berlin  luis alfaro javier gmez santander   \n",
              "1392       Daughter From Another Mother                            unknown   \n",
              "1460                            Monarca                            unknown   \n",
              "109                    La casa de papel                            unknown   \n",
              "19                               Jaguar                            unknown   \n",
              "\n",
              "                                                   cast  \\\n",
              "110                                             unknown   \n",
              "1392  ludwika paleta paulina goto martn altomaro liz...   \n",
              "1460  irene azuela juan manuel bernal osvaldo benavi...   \n",
              "109   rsula corber itziar ituo lvaro morte paco tous...   \n",
              "19    blanca surez ivn marcos scar casas adrin lastr...   \n",
              "\n",
              "                                                 genres  country  \\\n",
              "110   docuseries international show spanishlanguage ...  unknown   \n",
              "1392     international show spanishlanguage show comedy   mexico   \n",
              "1460      international show spanishlanguage show drama   mexico   \n",
              "109   crime show international show spanishlanguage ...    spain   \n",
              "19    international show spanishlanguage show action...  unknown   \n",
              "\n",
              "      release_year rating                                        description  \\\n",
              "110           2021  TV-MA  filmmaker actor behind money heist character l...   \n",
              "1392          2021  TV-MA  realize baby exchange birth two woman develop ...   \n",
              "1460          2021  TV-MA  year ana mara return mexico vies control famil...   \n",
              "109           2021  TV-MA  eight thief take hostage lock royal mint spain...   \n",
              "19            2021  TV-MA  1960s holocaust survivor join group selftraine...   \n",
              "\n",
              "      similarity  \n",
              "110     1.000000  \n",
              "1392    0.835556  \n",
              "1460    0.816591  \n",
              "109     0.789807  \n",
              "19      0.747369  "
            ],
            "text/html": [
              "\n",
              "  <div id=\"df-9857baf1-4754-4ae6-af25-b4d33740aa8e\" class=\"colab-df-container\">\n",
              "    <div>\n",
              "<style scoped>\n",
              "    .dataframe tbody tr th:only-of-type {\n",
              "        vertical-align: middle;\n",
              "    }\n",
              "\n",
              "    .dataframe tbody tr th {\n",
              "        vertical-align: top;\n",
              "    }\n",
              "\n",
              "    .dataframe thead th {\n",
              "        text-align: right;\n",
              "    }\n",
              "</style>\n",
              "<table border=\"1\" class=\"dataframe\">\n",
              "  <thead>\n",
              "    <tr style=\"text-align: right;\">\n",
              "      <th></th>\n",
              "      <th>title</th>\n",
              "      <th>director</th>\n",
              "      <th>cast</th>\n",
              "      <th>genres</th>\n",
              "      <th>country</th>\n",
              "      <th>release_year</th>\n",
              "      <th>rating</th>\n",
              "      <th>description</th>\n",
              "      <th>similarity</th>\n",
              "    </tr>\n",
              "  </thead>\n",
              "  <tbody>\n",
              "    <tr>\n",
              "      <th>110</th>\n",
              "      <td>Money Heist: From Tokyo to Berlin</td>\n",
              "      <td>luis alfaro javier gmez santander</td>\n",
              "      <td>unknown</td>\n",
              "      <td>docuseries international show spanishlanguage ...</td>\n",
              "      <td>unknown</td>\n",
              "      <td>2021</td>\n",
              "      <td>TV-MA</td>\n",
              "      <td>filmmaker actor behind money heist character l...</td>\n",
              "      <td>1.000000</td>\n",
              "    </tr>\n",
              "    <tr>\n",
              "      <th>1392</th>\n",
              "      <td>Daughter From Another Mother</td>\n",
              "      <td>unknown</td>\n",
              "      <td>ludwika paleta paulina goto martn altomaro liz...</td>\n",
              "      <td>international show spanishlanguage show comedy</td>\n",
              "      <td>mexico</td>\n",
              "      <td>2021</td>\n",
              "      <td>TV-MA</td>\n",
              "      <td>realize baby exchange birth two woman develop ...</td>\n",
              "      <td>0.835556</td>\n",
              "    </tr>\n",
              "    <tr>\n",
              "      <th>1460</th>\n",
              "      <td>Monarca</td>\n",
              "      <td>unknown</td>\n",
              "      <td>irene azuela juan manuel bernal osvaldo benavi...</td>\n",
              "      <td>international show spanishlanguage show drama</td>\n",
              "      <td>mexico</td>\n",
              "      <td>2021</td>\n",
              "      <td>TV-MA</td>\n",
              "      <td>year ana mara return mexico vies control famil...</td>\n",
              "      <td>0.816591</td>\n",
              "    </tr>\n",
              "    <tr>\n",
              "      <th>109</th>\n",
              "      <td>La casa de papel</td>\n",
              "      <td>unknown</td>\n",
              "      <td>rsula corber itziar ituo lvaro morte paco tous...</td>\n",
              "      <td>crime show international show spanishlanguage ...</td>\n",
              "      <td>spain</td>\n",
              "      <td>2021</td>\n",
              "      <td>TV-MA</td>\n",
              "      <td>eight thief take hostage lock royal mint spain...</td>\n",
              "      <td>0.789807</td>\n",
              "    </tr>\n",
              "    <tr>\n",
              "      <th>19</th>\n",
              "      <td>Jaguar</td>\n",
              "      <td>unknown</td>\n",
              "      <td>blanca surez ivn marcos scar casas adrin lastr...</td>\n",
              "      <td>international show spanishlanguage show action...</td>\n",
              "      <td>unknown</td>\n",
              "      <td>2021</td>\n",
              "      <td>TV-MA</td>\n",
              "      <td>1960s holocaust survivor join group selftraine...</td>\n",
              "      <td>0.747369</td>\n",
              "    </tr>\n",
              "  </tbody>\n",
              "</table>\n",
              "</div>\n",
              "    <div class=\"colab-df-buttons\">\n",
              "\n",
              "  <div class=\"colab-df-container\">\n",
              "    <button class=\"colab-df-convert\" onclick=\"convertToInteractive('df-9857baf1-4754-4ae6-af25-b4d33740aa8e')\"\n",
              "            title=\"Convert this dataframe to an interactive table.\"\n",
              "            style=\"display:none;\">\n",
              "\n",
              "  <svg xmlns=\"http://www.w3.org/2000/svg\" height=\"24px\" viewBox=\"0 -960 960 960\">\n",
              "    <path d=\"M120-120v-720h720v720H120Zm60-500h600v-160H180v160Zm220 220h160v-160H400v160Zm0 220h160v-160H400v160ZM180-400h160v-160H180v160Zm440 0h160v-160H620v160ZM180-180h160v-160H180v160Zm440 0h160v-160H620v160Z\"/>\n",
              "  </svg>\n",
              "    </button>\n",
              "\n",
              "  <style>\n",
              "    .colab-df-container {\n",
              "      display:flex;\n",
              "      gap: 12px;\n",
              "    }\n",
              "\n",
              "    .colab-df-convert {\n",
              "      background-color: #E8F0FE;\n",
              "      border: none;\n",
              "      border-radius: 50%;\n",
              "      cursor: pointer;\n",
              "      display: none;\n",
              "      fill: #1967D2;\n",
              "      height: 32px;\n",
              "      padding: 0 0 0 0;\n",
              "      width: 32px;\n",
              "    }\n",
              "\n",
              "    .colab-df-convert:hover {\n",
              "      background-color: #E2EBFA;\n",
              "      box-shadow: 0px 1px 2px rgba(60, 64, 67, 0.3), 0px 1px 3px 1px rgba(60, 64, 67, 0.15);\n",
              "      fill: #174EA6;\n",
              "    }\n",
              "\n",
              "    .colab-df-buttons div {\n",
              "      margin-bottom: 4px;\n",
              "    }\n",
              "\n",
              "    [theme=dark] .colab-df-convert {\n",
              "      background-color: #3B4455;\n",
              "      fill: #D2E3FC;\n",
              "    }\n",
              "\n",
              "    [theme=dark] .colab-df-convert:hover {\n",
              "      background-color: #434B5C;\n",
              "      box-shadow: 0px 1px 3px 1px rgba(0, 0, 0, 0.15);\n",
              "      filter: drop-shadow(0px 1px 2px rgba(0, 0, 0, 0.3));\n",
              "      fill: #FFFFFF;\n",
              "    }\n",
              "  </style>\n",
              "\n",
              "    <script>\n",
              "      const buttonEl =\n",
              "        document.querySelector('#df-9857baf1-4754-4ae6-af25-b4d33740aa8e button.colab-df-convert');\n",
              "      buttonEl.style.display =\n",
              "        google.colab.kernel.accessAllowed ? 'block' : 'none';\n",
              "\n",
              "      async function convertToInteractive(key) {\n",
              "        const element = document.querySelector('#df-9857baf1-4754-4ae6-af25-b4d33740aa8e');\n",
              "        const dataTable =\n",
              "          await google.colab.kernel.invokeFunction('convertToInteractive',\n",
              "                                                    [key], {});\n",
              "        if (!dataTable) return;\n",
              "\n",
              "        const docLinkHtml = 'Like what you see? Visit the ' +\n",
              "          '<a target=\"_blank\" href=https://colab.research.google.com/notebooks/data_table.ipynb>data table notebook</a>'\n",
              "          + ' to learn more about interactive tables.';\n",
              "        element.innerHTML = '';\n",
              "        dataTable['output_type'] = 'display_data';\n",
              "        await google.colab.output.renderOutput(dataTable, element);\n",
              "        const docLink = document.createElement('div');\n",
              "        docLink.innerHTML = docLinkHtml;\n",
              "        element.appendChild(docLink);\n",
              "      }\n",
              "    </script>\n",
              "  </div>\n",
              "\n",
              "\n",
              "    <div id=\"df-452e11b0-2e91-409a-9000-c731ab26d90d\">\n",
              "      <button class=\"colab-df-quickchart\" onclick=\"quickchart('df-452e11b0-2e91-409a-9000-c731ab26d90d')\"\n",
              "                title=\"Suggest charts\"\n",
              "                style=\"display:none;\">\n",
              "\n",
              "<svg xmlns=\"http://www.w3.org/2000/svg\" height=\"24px\"viewBox=\"0 0 24 24\"\n",
              "     width=\"24px\">\n",
              "    <g>\n",
              "        <path d=\"M19 3H5c-1.1 0-2 .9-2 2v14c0 1.1.9 2 2 2h14c1.1 0 2-.9 2-2V5c0-1.1-.9-2-2-2zM9 17H7v-7h2v7zm4 0h-2V7h2v10zm4 0h-2v-4h2v4z\"/>\n",
              "    </g>\n",
              "</svg>\n",
              "      </button>\n",
              "\n",
              "<style>\n",
              "  .colab-df-quickchart {\n",
              "      --bg-color: #E8F0FE;\n",
              "      --fill-color: #1967D2;\n",
              "      --hover-bg-color: #E2EBFA;\n",
              "      --hover-fill-color: #174EA6;\n",
              "      --disabled-fill-color: #AAA;\n",
              "      --disabled-bg-color: #DDD;\n",
              "  }\n",
              "\n",
              "  [theme=dark] .colab-df-quickchart {\n",
              "      --bg-color: #3B4455;\n",
              "      --fill-color: #D2E3FC;\n",
              "      --hover-bg-color: #434B5C;\n",
              "      --hover-fill-color: #FFFFFF;\n",
              "      --disabled-bg-color: #3B4455;\n",
              "      --disabled-fill-color: #666;\n",
              "  }\n",
              "\n",
              "  .colab-df-quickchart {\n",
              "    background-color: var(--bg-color);\n",
              "    border: none;\n",
              "    border-radius: 50%;\n",
              "    cursor: pointer;\n",
              "    display: none;\n",
              "    fill: var(--fill-color);\n",
              "    height: 32px;\n",
              "    padding: 0;\n",
              "    width: 32px;\n",
              "  }\n",
              "\n",
              "  .colab-df-quickchart:hover {\n",
              "    background-color: var(--hover-bg-color);\n",
              "    box-shadow: 0 1px 2px rgba(60, 64, 67, 0.3), 0 1px 3px 1px rgba(60, 64, 67, 0.15);\n",
              "    fill: var(--button-hover-fill-color);\n",
              "  }\n",
              "\n",
              "  .colab-df-quickchart-complete:disabled,\n",
              "  .colab-df-quickchart-complete:disabled:hover {\n",
              "    background-color: var(--disabled-bg-color);\n",
              "    fill: var(--disabled-fill-color);\n",
              "    box-shadow: none;\n",
              "  }\n",
              "\n",
              "  .colab-df-spinner {\n",
              "    border: 2px solid var(--fill-color);\n",
              "    border-color: transparent;\n",
              "    border-bottom-color: var(--fill-color);\n",
              "    animation:\n",
              "      spin 1s steps(1) infinite;\n",
              "  }\n",
              "\n",
              "  @keyframes spin {\n",
              "    0% {\n",
              "      border-color: transparent;\n",
              "      border-bottom-color: var(--fill-color);\n",
              "      border-left-color: var(--fill-color);\n",
              "    }\n",
              "    20% {\n",
              "      border-color: transparent;\n",
              "      border-left-color: var(--fill-color);\n",
              "      border-top-color: var(--fill-color);\n",
              "    }\n",
              "    30% {\n",
              "      border-color: transparent;\n",
              "      border-left-color: var(--fill-color);\n",
              "      border-top-color: var(--fill-color);\n",
              "      border-right-color: var(--fill-color);\n",
              "    }\n",
              "    40% {\n",
              "      border-color: transparent;\n",
              "      border-right-color: var(--fill-color);\n",
              "      border-top-color: var(--fill-color);\n",
              "    }\n",
              "    60% {\n",
              "      border-color: transparent;\n",
              "      border-right-color: var(--fill-color);\n",
              "    }\n",
              "    80% {\n",
              "      border-color: transparent;\n",
              "      border-right-color: var(--fill-color);\n",
              "      border-bottom-color: var(--fill-color);\n",
              "    }\n",
              "    90% {\n",
              "      border-color: transparent;\n",
              "      border-bottom-color: var(--fill-color);\n",
              "    }\n",
              "  }\n",
              "</style>\n",
              "\n",
              "      <script>\n",
              "        async function quickchart(key) {\n",
              "          const quickchartButtonEl =\n",
              "            document.querySelector('#' + key + ' button');\n",
              "          quickchartButtonEl.disabled = true;  // To prevent multiple clicks.\n",
              "          quickchartButtonEl.classList.add('colab-df-spinner');\n",
              "          try {\n",
              "            const charts = await google.colab.kernel.invokeFunction(\n",
              "                'suggestCharts', [key], {});\n",
              "          } catch (error) {\n",
              "            console.error('Error during call to suggestCharts:', error);\n",
              "          }\n",
              "          quickchartButtonEl.classList.remove('colab-df-spinner');\n",
              "          quickchartButtonEl.classList.add('colab-df-quickchart-complete');\n",
              "        }\n",
              "        (() => {\n",
              "          let quickchartButtonEl =\n",
              "            document.querySelector('#df-452e11b0-2e91-409a-9000-c731ab26d90d button');\n",
              "          quickchartButtonEl.style.display =\n",
              "            google.colab.kernel.accessAllowed ? 'block' : 'none';\n",
              "        })();\n",
              "      </script>\n",
              "    </div>\n",
              "\n",
              "    </div>\n",
              "  </div>\n"
            ],
            "application/vnd.google.colaboratory.intrinsic+json": {
              "type": "dataframe",
              "summary": "{\n  \"name\": \"recommend(\\\"Non-Existent Movie\\\")\",\n  \"rows\": 5,\n  \"fields\": [\n    {\n      \"column\": \"title\",\n      \"properties\": {\n        \"dtype\": \"string\",\n        \"num_unique_values\": 5,\n        \"samples\": [\n          \"Daughter From Another Mother\",\n          \"Jaguar\",\n          \"Monarca\"\n        ],\n        \"semantic_type\": \"\",\n        \"description\": \"\"\n      }\n    },\n    {\n      \"column\": \"director\",\n      \"properties\": {\n        \"dtype\": \"category\",\n        \"num_unique_values\": 2,\n        \"samples\": [\n          \"unknown\",\n          \"luis alfaro javier gmez santander\"\n        ],\n        \"semantic_type\": \"\",\n        \"description\": \"\"\n      }\n    },\n    {\n      \"column\": \"cast\",\n      \"properties\": {\n        \"dtype\": \"string\",\n        \"num_unique_values\": 5,\n        \"samples\": [\n          \"ludwika paleta paulina goto martn altomaro liz gallardo javier ponce oka giner zaide silvia gutirrez dalexa meneses emilio beltrn ulrich fernando memije elena del christian chvez\",\n          \"blanca surez ivn marcos scar casas adrin lastra francesc garrido stefan weinert julia mller alicia chojnowski\"\n        ],\n        \"semantic_type\": \"\",\n        \"description\": \"\"\n      }\n    },\n    {\n      \"column\": \"genres\",\n      \"properties\": {\n        \"dtype\": \"string\",\n        \"num_unique_values\": 5,\n        \"samples\": [\n          \"international show spanishlanguage show comedy\",\n          \"international show spanishlanguage show action adventure\"\n        ],\n        \"semantic_type\": \"\",\n        \"description\": \"\"\n      }\n    },\n    {\n      \"column\": \"country\",\n      \"properties\": {\n        \"dtype\": \"string\",\n        \"num_unique_values\": 3,\n        \"samples\": [\n          \"unknown\",\n          \"mexico\"\n        ],\n        \"semantic_type\": \"\",\n        \"description\": \"\"\n      }\n    },\n    {\n      \"column\": \"release_year\",\n      \"properties\": {\n        \"dtype\": \"number\",\n        \"std\": 0,\n        \"min\": 2021,\n        \"max\": 2021,\n        \"num_unique_values\": 1,\n        \"samples\": [\n          2021\n        ],\n        \"semantic_type\": \"\",\n        \"description\": \"\"\n      }\n    },\n    {\n      \"column\": \"rating\",\n      \"properties\": {\n        \"dtype\": \"category\",\n        \"num_unique_values\": 1,\n        \"samples\": [\n          \"TV-MA\"\n        ],\n        \"semantic_type\": \"\",\n        \"description\": \"\"\n      }\n    },\n    {\n      \"column\": \"description\",\n      \"properties\": {\n        \"dtype\": \"string\",\n        \"num_unique_values\": 5,\n        \"samples\": [\n          \"realize baby exchange birth two woman develop plan adjust new life create single peculiar family\"\n        ],\n        \"semantic_type\": \"\",\n        \"description\": \"\"\n      }\n    },\n    {\n      \"column\": \"similarity\",\n      \"properties\": {\n        \"dtype\": \"number\",\n        \"std\": 0.09649453434658631,\n        \"min\": 0.7473687738900217,\n        \"max\": 1.0000000000000002,\n        \"num_unique_values\": 5,\n        \"samples\": [\n          0.8355561983284963\n        ],\n        \"semantic_type\": \"\",\n        \"description\": \"\"\n      }\n    }\n  ]\n}"
            }
          },
          "metadata": {},
          "execution_count": 44
        }
      ]
    },
    {
      "cell_type": "markdown",
      "source": [
        "## Save all necessary components"
      ],
      "metadata": {
        "id": "GdlD9JkCp34D"
      }
    },
    {
      "cell_type": "code",
      "source": [
        "with open(\"desc_vectorizer.pkl\", \"wb\") as f:\n",
        "    pickle.dump(desc_vectorizer, f)"
      ],
      "metadata": {
        "id": "B9FkGMPrpdfd"
      },
      "execution_count": 45,
      "outputs": []
    },
    {
      "cell_type": "code",
      "source": [
        "with open(\"gen_vectorizer.pkl\", \"wb\") as f:\n",
        "    pickle.dump(gen_vectorizer, f)"
      ],
      "metadata": {
        "id": "BSkXDuH_piCz"
      },
      "execution_count": 46,
      "outputs": []
    },
    {
      "cell_type": "code",
      "source": [
        "with open(\"dir_vectorizer.pkl\", \"wb\") as f:\n",
        "    pickle.dump(dir_vectorizer, f)"
      ],
      "metadata": {
        "id": "8wkVOMEHpkGE"
      },
      "execution_count": 47,
      "outputs": []
    },
    {
      "cell_type": "code",
      "source": [
        "with open(\"cast_vectorizer.pkl\", \"wb\") as f:\n",
        "    pickle.dump(cast_vectorizer, f)"
      ],
      "metadata": {
        "id": "WH2v-T0QpkCr"
      },
      "execution_count": 48,
      "outputs": []
    },
    {
      "cell_type": "code",
      "source": [
        "with open(\"ctry_vectorizer.pkl\", \"wb\") as f:\n",
        "    pickle.dump(ctry_vectorizer, f)"
      ],
      "metadata": {
        "id": "ZFxFZLeEpkAg"
      },
      "execution_count": 49,
      "outputs": []
    },
    {
      "cell_type": "code",
      "source": [
        "with open(\"svd_model.pkl\", \"wb\") as f:\n",
        "    pickle.dump(svd, f)"
      ],
      "metadata": {
        "id": "LajIv3MVpj-R"
      },
      "execution_count": 50,
      "outputs": []
    },
    {
      "cell_type": "code",
      "source": [
        "with open(\"nn_model.pkl\", \"wb\") as f:\n",
        "    pickle.dump(nn, f)"
      ],
      "metadata": {
        "id": "NeT9RRAZpj6g"
      },
      "execution_count": 51,
      "outputs": []
    },
    {
      "cell_type": "code",
      "source": [
        "with open(\"norm_features.pkl\", \"wb\") as f:\n",
        "    pickle.dump(norm_features, f)"
      ],
      "metadata": {
        "id": "_z6_N3dcpq2o"
      },
      "execution_count": 52,
      "outputs": []
    },
    {
      "cell_type": "code",
      "source": [
        "with open(\"title_to_indices.pkl\", \"wb\") as f:\n",
        "    pickle.dump(title_to_indices, f)"
      ],
      "metadata": {
        "id": "teiwG1dtpqzN"
      },
      "execution_count": 53,
      "outputs": []
    },
    {
      "cell_type": "code",
      "source": [
        "with open(\"df_metadata.pkl\", \"wb\") as f:\n",
        "    pickle.dump(df[[\n",
        "        'title', 'director', 'cast', 'genres', 'country',\n",
        "        'release_year', 'rating', 'description'\n",
        "    ]], f)"
      ],
      "metadata": {
        "id": "00CwccgUpvLQ"
      },
      "execution_count": 54,
      "outputs": []
    },
    {
      "cell_type": "markdown",
      "source": [
        "save only metadata needed for output (not full text vectors)"
      ],
      "metadata": {
        "id": "Hq0oLoi-pzdZ"
      }
    }
  ]
}